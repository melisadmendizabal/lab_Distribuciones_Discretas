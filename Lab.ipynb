{
 "cells": [
  {
   "cell_type": "markdown",
   "metadata": {
    "id": "_-lHuyIxs0wA"
   },
   "source": [
    "# **Distribuciones Discretas**\n",
    "\n",
    "Melisa Mendizabal 23778, Ana Laura Tschen 221645, Eliazar Canastuj 23384"
   ]
  },
  {
   "cell_type": "markdown",
   "metadata": {},
   "source": [
    "## Problema 4\n",
    "Un estudio geológico indica que un pozo de petróleo de exploración perforado en una región específica debe producir\n",
    "petróleo con probabilidad 0.2. Encuentre la probabilidad de que el tercer descubrimiento de petróleo llegue en el\n",
    "quinto pozo perforado. Supongase que las performaciones son independientes y la probabilidad de descubrir petróleo\n",
    "en cualquiera de los pozos es 0.2."
   ]
  },
  {
   "cell_type": "code",
   "execution_count": null,
   "metadata": {},
   "outputs": [],
   "source": [
    "from scipy.stats import nbinom\n",
    "\n",
    "r = 3       \n",
    "p = 0.2     \n",
    "x = 5 - r   \n",
    "\n",
    "probabilidad = nbinom.pmf(x, r, p)\n",
    "print(f\"La probabilidad de que el tercer descubrimiento llegue en el quinto pozo es: {probabilidad:.5f}\")"
   ]
  },
  {
   "cell_type": "markdown",
   "metadata": {
    "id": "5HVLWSDNtn02"
   },
   "source": [
    "## Problema 8\n",
    "El número de errores mecanográficos hechos por una secretaria tiene una distribución de poisson con un promedio de 4 errores por página. Si en una página se da más de 4 errores, la secretaría debe volver a escribir toda la página.\n",
    "*  a) ¿Cuál es la probabilidad de que una página seleccionada al Azar no tenga que volver a ser escrita?\n",
    "*  b) Si la secretaría escribió un ensayo de 20 páginas. ¿cuál es la probablidad de que la secretaria tenga que repetir 10 páginas de este ensayo, según el criterio indicado? Supongase que las páginas del ensayo son escritas de forma independiente"
   ]
  },
  {
   "cell_type": "code",
   "execution_count": 1,
   "metadata": {
    "colab": {
     "base_uri": "https://localhost:8080/"
    },
    "id": "xEehW_nZswCJ",
    "outputId": "eee86a03-db27-4574-ea1c-6e83d8a15cdd"
   },
   "outputs": [
    {
     "name": "stdout",
     "output_type": "stream",
     "text": [
      "Probabilidad de no reescribir una página: 0.6288\n",
      "Probabilidad de reescribir exactamente 10 páginas: 0.0886\n"
     ]
    }
   ],
   "source": [
    "from scipy.stats import poisson, binom\n",
    "\n",
    "# Parámetros\n",
    "lambda_ = 4  # Promedio de errores por página\n",
    "n = 20       # Número de páginas en el ensayo\n",
    "k = 10       # Número de páginas que deben reescribirse\n",
    "\n",
    "# a) Probabilidad de que una página NO tenga que ser reescrita (X ≤ 4)\n",
    "P_no_reescribir = poisson.cdf(4, mu=lambda_)\n",
    "print(f\"Probabilidad de no reescribir una página: {P_no_reescribir:.4f}\")\n",
    "\n",
    "# b) Probabilidad de que exactamente 10 páginas tengan que ser reescritas\n",
    "P_reescribir_10 = binom.pmf(k, n, 1 - P_no_reescribir)\n",
    "print(f\"Probabilidad de reescribir exactamente 10 páginas: {P_reescribir_10:.4f}\")\n"
   ]
  }
 ],
 "metadata": {
  "colab": {
   "provenance": []
  },
  "kernelspec": {
   "display_name": "Python 3 (ipykernel)",
   "language": "python",
   "name": "python3"
  },
  "language_info": {
   "codemirror_mode": {
    "name": "ipython",
    "version": 3
   },
   "file_extension": ".py",
   "mimetype": "text/x-python",
   "name": "python",
   "nbconvert_exporter": "python",
   "pygments_lexer": "ipython3",
   "version": "3.11.2"
  }
 },
 "nbformat": 4,
 "nbformat_minor": 1
}
