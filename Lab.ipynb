{
  "nbformat": 4,
  "nbformat_minor": 0,
  "metadata": {
    "colab": {
      "provenance": []
    },
    "kernelspec": {
      "name": "python3",
      "display_name": "Python 3"
    },
    "language_info": {
      "name": "python"
    }
  },
  "cells": [
    {
      "cell_type": "markdown",
      "source": [
        "# **Distribuciones Discretas**\n",
        "\n",
        "Melisa Mendizabal,\n",
        "Ana Laura Tschen"
      ],
      "metadata": {
        "id": "_-lHuyIxs0wA"
      }
    },
    {
      "cell_type": "markdown",
      "source": [
        "## Problema 8\n",
        "El número de errores mecanográficos hechos por una secretaria tiene una distribución de poisson con un promedio de 4 errores por página. Si en una página se da más de 4 errores, la secretaría debe volver a escribir toda la página.\n",
        "*  a) ¿Cuál es la probabilidad de que una página seleccionada al Azar no tenga que volver a ser escrita?\n",
        "*  b) Si la secretaría escribió un ensayo de 20 páginas. ¿cuál es la probablidad de que la secretaria tenga que repetir 10 páginas de este ensayo, según el criterio indicado? Supongase que las páginas del ensayo son escritas de forma independiente"
      ],
      "metadata": {
        "id": "5HVLWSDNtn02"
      }
    },
    {
      "cell_type": "code",
      "execution_count": 1,
      "metadata": {
        "colab": {
          "base_uri": "https://localhost:8080/"
        },
        "id": "xEehW_nZswCJ",
        "outputId": "eee86a03-db27-4574-ea1c-6e83d8a15cdd"
      },
      "outputs": [
        {
          "output_type": "stream",
          "name": "stdout",
          "text": [
            "Probabilidad de no reescribir una página: 0.6288\n",
            "Probabilidad de reescribir exactamente 10 páginas: 0.0886\n"
          ]
        }
      ],
      "source": [
        "from scipy.stats import poisson, binom\n",
        "\n",
        "# Parámetros\n",
        "lambda_ = 4  # Promedio de errores por página\n",
        "n = 20       # Número de páginas en el ensayo\n",
        "k = 10       # Número de páginas que deben reescribirse\n",
        "\n",
        "# a) Probabilidad de que una página NO tenga que ser reescrita (X ≤ 4)\n",
        "P_no_reescribir = poisson.cdf(4, mu=lambda_)\n",
        "print(f\"Probabilidad de no reescribir una página: {P_no_reescribir:.4f}\")\n",
        "\n",
        "# b) Probabilidad de que exactamente 10 páginas tengan que ser reescritas\n",
        "P_reescribir_10 = binom.pmf(k, n, 1 - P_no_reescribir)\n",
        "print(f\"Probabilidad de reescribir exactamente 10 páginas: {P_reescribir_10:.4f}\")\n"
      ]
    }
  ]
}